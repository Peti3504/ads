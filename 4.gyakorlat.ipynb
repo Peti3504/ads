{
    "metadata": {
        "kernelspec": {
            "name": "SQL",
            "display_name": "SQL",
            "language": "sql"
        },
        "language_info": {
            "name": "sql",
            "version": ""
        },
        "extensions": {
            "azuredatastudio": {
                "version": 1,
                "views": []
            }
        }
    },
    "nbformat_minor": 2,
    "nbformat": 4,
    "cells": [
        {
            "cell_type": "markdown",
            "source": [
                "<span style=\"color: rgb(18, 38, 44); font-family: Arial; font-size: 15px; background-color: rgb(239, 249, 252);\">Számítsa ki, hogy átlagosan hány napig tartottak a foglalások&nbsp;</span> <span style=\"box-sizing: border-box; color: rgb(18, 38, 44); font-family: Arial; font-size: 0.9375rem; background-color: rgb(239, 249, 252);\">szállásonként, illetve ügyfelenként (külön-külön)!<br style=\"box-sizing: border-box;\">A szállás,&nbsp;</span> <span style=\"box-sizing: border-box; color: rgb(18, 38, 44); font-family: Arial; font-size: 0.9375rem; background-color: rgb(239, 249, 252);\">illetve az ügyfél esetén elég az azonosítójukat megadni.&nbsp;</span>"
            ],
            "metadata": {
                "azdata_cell_guid": "06ca340c-f141-4bf1-81bd-d8dcf8a698a6"
            },
            "attachments": {}
        },
        {
            "cell_type": "code",
            "source": [
                "SELECT sz.szallas fk,\r\n",
                "f.ugyelf_fk,\r\n",
                "-- hány napig tartott\r\n",
                "avg(DATEDIFF(day,f.mettol,f.meddig))\r\n",
                "FROM Foglalas f join szoba sz on f.szoba_fk = sz.szoba_id\r\n",
                "GROUP BY GROUPING SETS (sz.szallas_fk,f.ugyelf_fk)"
            ],
            "metadata": {
                "azdata_cell_guid": "04c37aab-ac07-405f-8c1f-2eaee90d38f4",
                "tags": []
            },
            "outputs": [
                {
                    "output_type": "error",
                    "evalue": "Msg 208, Level 16, State 1, Line 1\r\nInvalid object name 'Foglalas'.",
                    "ename": "",
                    "traceback": []
                },
                {
                    "output_type": "display_data",
                    "data": {
                        "text/html": "Total execution time: 00:00:00.058"
                    },
                    "metadata": {}
                }
            ],
            "execution_count": 1
        },
        {
            "cell_type": "markdown",
            "source": [
                "Készítsünk lekérdezést, amely megadja, hogy szállás típusonként, <span style=\"box-sizing: border-box; font-size: 0.9375rem;\">azon belül szálláshely kategóriánként (csillagok_szama) hány&nbsp;</span> <span style=\"box-sizing: border-box; font-size: 0.9375rem;\">db szálláshely van!&nbsp;</span> \n",
                "\n",
                "<span style=\"box-sizing: border-box; font-size: 0.9375rem;\">a. A lista jelenítse&nbsp; meg a részösszegeket és&nbsp;</span> <span style=\"box-sizing: border-box; font-size: 0.9375rem;\">a végösszeget is (csak a végösszeget kell külön elnevezni)</span>"
            ],
            "metadata": {
                "azdata_cell_guid": "3d814782-4b9c-43db-af22-322bf7673ae7"
            },
            "attachments": {}
        },
        {
            "cell_type": "code",
            "source": [
                ""
            ],
            "metadata": {
                "azdata_cell_guid": "39f5a919-90f1-4fb9-8cc1-5d144453987f"
            },
            "outputs": [],
            "execution_count": null
        }
    ]
}