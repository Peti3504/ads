{
    "metadata": {
        "kernelspec": {
            "name": "SQL",
            "display_name": "SQL",
            "language": "sql"
        },
        "language_info": {
            "name": "sql",
            "version": ""
        },
        "extensions": {
            "azuredatastudio": {
                "version": 1,
                "views": []
            }
        }
    },
    "nbformat_minor": 2,
    "nbformat": 4,
    "cells": [
        {
            "cell_type": "code",
            "source": [
                "\r\n",
                "WITH cte_atlag as \r\n",
                "( \r\n",
                "    select avg(FEROHELY + POTAGY) as 'átlag'\r\n",
                "    from Szoba\r\n",
                ")\r\n",
                "select * \r\n",
                "from Szoba\r\n",
                "where FEROHELY + potagy > \r\n",
                "(\r\n",
                "    -- beágyazott select \r\n",
                "    select átlag from cte_atlag\r\n",
                ")\r\n",
                "\r\n",
                ""
            ],
            "metadata": {
                "azdata_cell_guid": "a05a5ebc-2081-494a-b91e-14e1a22e1a20"
            },
            "outputs": [
                {
                    "output_type": "display_data",
                    "data": {
                        "text/html": "(72 rows affected)"
                    },
                    "metadata": {}
                },
                {
                    "output_type": "display_data",
                    "data": {
                        "text/html": "Total execution time: 00:00:00.047"
                    },
                    "metadata": {}
                },
                {
                    "output_type": "execute_result",
                    "metadata": {},
                    "execution_count": 3,
                    "data": {
                        "application/vnd.dataresource+json": {
                            "schema": {
                                "fields": [
                                    {
                                        "name": "SZOBA_ID"
                                    },
                                    {
                                        "name": "SZOBA_SZAMA"
                                    },
                                    {
                                        "name": "FEROHELY"
                                    },
                                    {
                                        "name": "POTAGY"
                                    },
                                    {
                                        "name": "KLIMAS"
                                    },
                                    {
                                        "name": "SZALLAS_FK"
                                    }
                                ]
                            },
                            "data": [
                                {
                                    "0": "2",
                                    "1": "2",
                                    "2": "3",
                                    "3": "1",
                                    "4": "i",
                                    "5": "1"
                                },
                                {
                                    "0": "3",
                                    "1": "3",
                                    "2": "3",
                                    "3": "1",
                                    "4": "i",
                                    "5": "1"
                                },
                                {
                                    "0": "9",
                                    "1": "9",
                                    "2": "3",
                                    "3": "1",
                                    "4": "i",
                                    "5": "1"
                                },
                                {
                                    "0": "14",
                                    "1": "2",
                                    "2": "3",
                                    "3": "2",
                                    "4": "i",
                                    "5": "2"
                                },
                                {
                                    "0": "16",
                                    "1": "4",
                                    "2": "3",
                                    "3": "1",
                                    "4": "i",
                                    "5": "2"
                                },
                                {
                                    "0": "17",
                                    "1": "1",
                                    "2": "3",
                                    "3": "1",
                                    "4": "i",
                                    "5": "3"
                                },
                                {
                                    "0": "18",
                                    "1": "2",
                                    "2": "3",
                                    "3": "2",
                                    "4": "n",
                                    "5": "3"
                                },
                                {
                                    "0": "22",
                                    "1": "6",
                                    "2": "3",
                                    "3": "2",
                                    "4": "n",
                                    "5": "3"
                                },
                                {
                                    "0": "24",
                                    "1": "8",
                                    "2": "4",
                                    "3": "1",
                                    "4": "i",
                                    "5": "3"
                                },
                                {
                                    "0": "25",
                                    "1": "1",
                                    "2": "3",
                                    "3": "1",
                                    "4": "n",
                                    "5": "4"
                                },
                                {
                                    "0": "27",
                                    "1": "3",
                                    "2": "3",
                                    "3": "1",
                                    "4": "n",
                                    "5": "4"
                                },
                                {
                                    "0": "30",
                                    "1": "6",
                                    "2": "3",
                                    "3": "1",
                                    "4": "i",
                                    "5": "4"
                                },
                                {
                                    "0": "31",
                                    "1": "7",
                                    "2": "3",
                                    "3": "1",
                                    "4": "i",
                                    "5": "4"
                                },
                                {
                                    "0": "33",
                                    "1": "9",
                                    "2": "2",
                                    "3": "2",
                                    "4": "i",
                                    "5": "4"
                                },
                                {
                                    "0": "34",
                                    "1": "10",
                                    "2": "3",
                                    "3": "1",
                                    "4": "i",
                                    "5": "4"
                                },
                                {
                                    "0": "36",
                                    "1": "12",
                                    "2": "3",
                                    "3": "2",
                                    "4": "i",
                                    "5": "4"
                                },
                                {
                                    "0": "51",
                                    "1": "2",
                                    "2": "3",
                                    "3": "1",
                                    "4": "i",
                                    "5": "6"
                                },
                                {
                                    "0": "67",
                                    "1": "18",
                                    "2": "2",
                                    "3": "2",
                                    "4": "i",
                                    "5": "6"
                                },
                                {
                                    "0": "68",
                                    "1": "19",
                                    "2": "2",
                                    "3": "2",
                                    "4": "i",
                                    "5": "6"
                                },
                                {
                                    "0": "69",
                                    "1": "20",
                                    "2": "3",
                                    "3": "1",
                                    "4": "n",
                                    "5": "6"
                                },
                                {
                                    "0": "74",
                                    "1": "25",
                                    "2": "3",
                                    "3": "1",
                                    "4": "n",
                                    "5": "6"
                                },
                                {
                                    "0": "77",
                                    "1": "28",
                                    "2": "3",
                                    "3": "1",
                                    "4": "i",
                                    "5": "6"
                                },
                                {
                                    "0": "92",
                                    "1": "2",
                                    "2": "3",
                                    "3": "1",
                                    "4": "i",
                                    "5": "8"
                                },
                                {
                                    "0": "93",
                                    "1": "3",
                                    "2": "3",
                                    "3": "2",
                                    "4": "i",
                                    "5": "8"
                                },
                                {
                                    "0": "95",
                                    "1": "5",
                                    "2": "3",
                                    "3": "1",
                                    "4": "i",
                                    "5": "8"
                                },
                                {
                                    "0": "97",
                                    "1": "7",
                                    "2": "3",
                                    "3": "2",
                                    "4": "n",
                                    "5": "8"
                                },
                                {
                                    "0": "113",
                                    "1": "23",
                                    "2": "3",
                                    "3": "2",
                                    "4": "i",
                                    "5": "8"
                                },
                                {
                                    "0": "117",
                                    "1": "27",
                                    "2": "3",
                                    "3": "1",
                                    "4": "i",
                                    "5": "8"
                                },
                                {
                                    "0": "120",
                                    "1": "30",
                                    "2": "3",
                                    "3": "1",
                                    "4": "i",
                                    "5": "8"
                                },
                                {
                                    "0": "122",
                                    "1": "32",
                                    "2": "3",
                                    "3": "1",
                                    "4": "i",
                                    "5": "8"
                                },
                                {
                                    "0": "138",
                                    "1": "4",
                                    "2": "3",
                                    "3": "1",
                                    "4": "i",
                                    "5": "10"
                                },
                                {
                                    "0": "143",
                                    "1": "9",
                                    "2": "3",
                                    "3": "1",
                                    "4": "i",
                                    "5": "10"
                                },
                                {
                                    "0": "144",
                                    "1": "10",
                                    "2": "3",
                                    "3": "1",
                                    "4": "n",
                                    "5": "10"
                                },
                                {
                                    "0": "145",
                                    "1": "11",
                                    "2": "2",
                                    "3": "2",
                                    "4": "i",
                                    "5": "10"
                                },
                                {
                                    "0": "155",
                                    "1": "21",
                                    "2": "3",
                                    "3": "1",
                                    "4": "n",
                                    "5": "10"
                                },
                                {
                                    "0": "156",
                                    "1": "22",
                                    "2": "2",
                                    "3": "2",
                                    "4": "i",
                                    "5": "10"
                                },
                                {
                                    "0": "159",
                                    "1": "25",
                                    "2": "3",
                                    "3": "1",
                                    "4": "n",
                                    "5": "10"
                                },
                                {
                                    "0": "160",
                                    "1": "1",
                                    "2": "3",
                                    "3": "1",
                                    "4": "i",
                                    "5": "11"
                                },
                                {
                                    "0": "161",
                                    "1": "2",
                                    "2": "2",
                                    "3": "2",
                                    "4": "i",
                                    "5": "11"
                                },
                                {
                                    "0": "168",
                                    "1": "4",
                                    "2": "2",
                                    "3": "2",
                                    "4": "i",
                                    "5": "12"
                                },
                                {
                                    "0": "172",
                                    "1": "8",
                                    "2": "2",
                                    "3": "2",
                                    "4": "n",
                                    "5": "12"
                                },
                                {
                                    "0": "176",
                                    "1": "12",
                                    "2": "3",
                                    "3": "1",
                                    "4": "i",
                                    "5": "12"
                                },
                                {
                                    "0": "177",
                                    "1": "13",
                                    "2": "3",
                                    "3": "2",
                                    "4": "i",
                                    "5": "12"
                                },
                                {
                                    "0": "179",
                                    "1": "15",
                                    "2": "3",
                                    "3": "2",
                                    "4": "i",
                                    "5": "12"
                                },
                                {
                                    "0": "180",
                                    "1": "16",
                                    "2": "2",
                                    "3": "2",
                                    "4": "i",
                                    "5": "12"
                                },
                                {
                                    "0": "186",
                                    "1": "22",
                                    "2": "2",
                                    "3": "2",
                                    "4": "i",
                                    "5": "12"
                                },
                                {
                                    "0": "187",
                                    "1": "23",
                                    "2": "3",
                                    "3": "1",
                                    "4": "i",
                                    "5": "12"
                                },
                                {
                                    "0": "189",
                                    "1": "25",
                                    "2": "2",
                                    "3": "2",
                                    "4": "i",
                                    "5": "12"
                                },
                                {
                                    "0": "193",
                                    "1": "29",
                                    "2": "3",
                                    "3": "2",
                                    "4": "n",
                                    "5": "12"
                                },
                                {
                                    "0": "199",
                                    "1": "35",
                                    "2": "3",
                                    "3": "2",
                                    "4": "i",
                                    "5": "12"
                                },
                                {
                                    "0": "201",
                                    "1": "37",
                                    "2": "3",
                                    "3": "1",
                                    "4": "n",
                                    "5": "12"
                                },
                                {
                                    "0": "202",
                                    "1": "38",
                                    "2": "3",
                                    "3": "1",
                                    "4": "i",
                                    "5": "12"
                                },
                                {
                                    "0": "204",
                                    "1": "40",
                                    "2": "3",
                                    "3": "1",
                                    "4": "i",
                                    "5": "12"
                                },
                                {
                                    "0": "209",
                                    "1": "45",
                                    "2": "3",
                                    "3": "2",
                                    "4": "n",
                                    "5": "12"
                                },
                                {
                                    "0": "214",
                                    "1": "50",
                                    "2": "3",
                                    "3": "1",
                                    "4": "i",
                                    "5": "12"
                                },
                                {
                                    "0": "216",
                                    "1": "2",
                                    "2": "3",
                                    "3": "1",
                                    "4": "i",
                                    "5": "13"
                                },
                                {
                                    "0": "226",
                                    "1": "12",
                                    "2": "3",
                                    "3": "1",
                                    "4": "n",
                                    "5": "13"
                                },
                                {
                                    "0": "230",
                                    "1": "4",
                                    "2": "3",
                                    "3": "2",
                                    "4": "i",
                                    "5": "14"
                                },
                                {
                                    "0": "234",
                                    "1": "4",
                                    "2": "3",
                                    "3": "1",
                                    "4": "i",
                                    "5": "15"
                                },
                                {
                                    "0": "236",
                                    "1": "6",
                                    "2": "3",
                                    "3": "1",
                                    "4": "n",
                                    "5": "15"
                                },
                                {
                                    "0": "237",
                                    "1": "7",
                                    "2": "2",
                                    "3": "2",
                                    "4": "n",
                                    "5": "15"
                                },
                                {
                                    "0": "238",
                                    "1": "8",
                                    "2": "3",
                                    "3": "1",
                                    "4": "i",
                                    "5": "15"
                                },
                                {
                                    "0": "239",
                                    "1": "9",
                                    "2": "2",
                                    "3": "2",
                                    "4": "i",
                                    "5": "15"
                                },
                                {
                                    "0": "248",
                                    "1": "6",
                                    "2": "2",
                                    "3": "2",
                                    "4": "i",
                                    "5": "16"
                                },
                                {
                                    "0": "250",
                                    "1": "8",
                                    "2": "3",
                                    "3": "1",
                                    "4": "n",
                                    "5": "16"
                                },
                                {
                                    "0": "252",
                                    "1": "10",
                                    "2": "3",
                                    "3": "1",
                                    "4": "i",
                                    "5": "16"
                                },
                                {
                                    "0": "256",
                                    "1": "14",
                                    "2": "3",
                                    "3": "1",
                                    "4": "i",
                                    "5": "16"
                                },
                                {
                                    "0": "263",
                                    "1": "1",
                                    "2": "2",
                                    "3": "2",
                                    "4": "i",
                                    "5": "17"
                                },
                                {
                                    "0": "268",
                                    "1": "6",
                                    "2": "2",
                                    "3": "2",
                                    "4": "n",
                                    "5": "17"
                                },
                                {
                                    "0": "274",
                                    "1": "12",
                                    "2": "3",
                                    "3": "1",
                                    "4": "i",
                                    "5": "17"
                                },
                                {
                                    "0": "278",
                                    "1": "1",
                                    "2": "3",
                                    "3": "1",
                                    "4": "i",
                                    "5": "18"
                                },
                                {
                                    "0": "284",
                                    "1": "4",
                                    "2": "2",
                                    "3": "2",
                                    "4": "i",
                                    "5": "19"
                                }
                            ]
                        },
                        "text/html": [
                            "<table>",
                            "<tr><th>SZOBA_ID</th><th>SZOBA_SZAMA</th><th>FEROHELY</th><th>POTAGY</th><th>KLIMAS</th><th>SZALLAS_FK</th></tr>",
                            "<tr><td>2</td><td>2</td><td>3</td><td>1</td><td>i</td><td>1</td></tr>",
                            "<tr><td>3</td><td>3</td><td>3</td><td>1</td><td>i</td><td>1</td></tr>",
                            "<tr><td>9</td><td>9</td><td>3</td><td>1</td><td>i</td><td>1</td></tr>",
                            "<tr><td>14</td><td>2</td><td>3</td><td>2</td><td>i</td><td>2</td></tr>",
                            "<tr><td>16</td><td>4</td><td>3</td><td>1</td><td>i</td><td>2</td></tr>",
                            "<tr><td>17</td><td>1</td><td>3</td><td>1</td><td>i</td><td>3</td></tr>",
                            "<tr><td>18</td><td>2</td><td>3</td><td>2</td><td>n</td><td>3</td></tr>",
                            "<tr><td>22</td><td>6</td><td>3</td><td>2</td><td>n</td><td>3</td></tr>",
                            "<tr><td>24</td><td>8</td><td>4</td><td>1</td><td>i</td><td>3</td></tr>",
                            "<tr><td>25</td><td>1</td><td>3</td><td>1</td><td>n</td><td>4</td></tr>",
                            "<tr><td>27</td><td>3</td><td>3</td><td>1</td><td>n</td><td>4</td></tr>",
                            "<tr><td>30</td><td>6</td><td>3</td><td>1</td><td>i</td><td>4</td></tr>",
                            "<tr><td>31</td><td>7</td><td>3</td><td>1</td><td>i</td><td>4</td></tr>",
                            "<tr><td>33</td><td>9</td><td>2</td><td>2</td><td>i</td><td>4</td></tr>",
                            "<tr><td>34</td><td>10</td><td>3</td><td>1</td><td>i</td><td>4</td></tr>",
                            "<tr><td>36</td><td>12</td><td>3</td><td>2</td><td>i</td><td>4</td></tr>",
                            "<tr><td>51</td><td>2</td><td>3</td><td>1</td><td>i</td><td>6</td></tr>",
                            "<tr><td>67</td><td>18</td><td>2</td><td>2</td><td>i</td><td>6</td></tr>",
                            "<tr><td>68</td><td>19</td><td>2</td><td>2</td><td>i</td><td>6</td></tr>",
                            "<tr><td>69</td><td>20</td><td>3</td><td>1</td><td>n</td><td>6</td></tr>",
                            "<tr><td>74</td><td>25</td><td>3</td><td>1</td><td>n</td><td>6</td></tr>",
                            "<tr><td>77</td><td>28</td><td>3</td><td>1</td><td>i</td><td>6</td></tr>",
                            "<tr><td>92</td><td>2</td><td>3</td><td>1</td><td>i</td><td>8</td></tr>",
                            "<tr><td>93</td><td>3</td><td>3</td><td>2</td><td>i</td><td>8</td></tr>",
                            "<tr><td>95</td><td>5</td><td>3</td><td>1</td><td>i</td><td>8</td></tr>",
                            "<tr><td>97</td><td>7</td><td>3</td><td>2</td><td>n</td><td>8</td></tr>",
                            "<tr><td>113</td><td>23</td><td>3</td><td>2</td><td>i</td><td>8</td></tr>",
                            "<tr><td>117</td><td>27</td><td>3</td><td>1</td><td>i</td><td>8</td></tr>",
                            "<tr><td>120</td><td>30</td><td>3</td><td>1</td><td>i</td><td>8</td></tr>",
                            "<tr><td>122</td><td>32</td><td>3</td><td>1</td><td>i</td><td>8</td></tr>",
                            "<tr><td>138</td><td>4</td><td>3</td><td>1</td><td>i</td><td>10</td></tr>",
                            "<tr><td>143</td><td>9</td><td>3</td><td>1</td><td>i</td><td>10</td></tr>",
                            "<tr><td>144</td><td>10</td><td>3</td><td>1</td><td>n</td><td>10</td></tr>",
                            "<tr><td>145</td><td>11</td><td>2</td><td>2</td><td>i</td><td>10</td></tr>",
                            "<tr><td>155</td><td>21</td><td>3</td><td>1</td><td>n</td><td>10</td></tr>",
                            "<tr><td>156</td><td>22</td><td>2</td><td>2</td><td>i</td><td>10</td></tr>",
                            "<tr><td>159</td><td>25</td><td>3</td><td>1</td><td>n</td><td>10</td></tr>",
                            "<tr><td>160</td><td>1</td><td>3</td><td>1</td><td>i</td><td>11</td></tr>",
                            "<tr><td>161</td><td>2</td><td>2</td><td>2</td><td>i</td><td>11</td></tr>",
                            "<tr><td>168</td><td>4</td><td>2</td><td>2</td><td>i</td><td>12</td></tr>",
                            "<tr><td>172</td><td>8</td><td>2</td><td>2</td><td>n</td><td>12</td></tr>",
                            "<tr><td>176</td><td>12</td><td>3</td><td>1</td><td>i</td><td>12</td></tr>",
                            "<tr><td>177</td><td>13</td><td>3</td><td>2</td><td>i</td><td>12</td></tr>",
                            "<tr><td>179</td><td>15</td><td>3</td><td>2</td><td>i</td><td>12</td></tr>",
                            "<tr><td>180</td><td>16</td><td>2</td><td>2</td><td>i</td><td>12</td></tr>",
                            "<tr><td>186</td><td>22</td><td>2</td><td>2</td><td>i</td><td>12</td></tr>",
                            "<tr><td>187</td><td>23</td><td>3</td><td>1</td><td>i</td><td>12</td></tr>",
                            "<tr><td>189</td><td>25</td><td>2</td><td>2</td><td>i</td><td>12</td></tr>",
                            "<tr><td>193</td><td>29</td><td>3</td><td>2</td><td>n</td><td>12</td></tr>",
                            "<tr><td>199</td><td>35</td><td>3</td><td>2</td><td>i</td><td>12</td></tr>",
                            "<tr><td>201</td><td>37</td><td>3</td><td>1</td><td>n</td><td>12</td></tr>",
                            "<tr><td>202</td><td>38</td><td>3</td><td>1</td><td>i</td><td>12</td></tr>",
                            "<tr><td>204</td><td>40</td><td>3</td><td>1</td><td>i</td><td>12</td></tr>",
                            "<tr><td>209</td><td>45</td><td>3</td><td>2</td><td>n</td><td>12</td></tr>",
                            "<tr><td>214</td><td>50</td><td>3</td><td>1</td><td>i</td><td>12</td></tr>",
                            "<tr><td>216</td><td>2</td><td>3</td><td>1</td><td>i</td><td>13</td></tr>",
                            "<tr><td>226</td><td>12</td><td>3</td><td>1</td><td>n</td><td>13</td></tr>",
                            "<tr><td>230</td><td>4</td><td>3</td><td>2</td><td>i</td><td>14</td></tr>",
                            "<tr><td>234</td><td>4</td><td>3</td><td>1</td><td>i</td><td>15</td></tr>",
                            "<tr><td>236</td><td>6</td><td>3</td><td>1</td><td>n</td><td>15</td></tr>",
                            "<tr><td>237</td><td>7</td><td>2</td><td>2</td><td>n</td><td>15</td></tr>",
                            "<tr><td>238</td><td>8</td><td>3</td><td>1</td><td>i</td><td>15</td></tr>",
                            "<tr><td>239</td><td>9</td><td>2</td><td>2</td><td>i</td><td>15</td></tr>",
                            "<tr><td>248</td><td>6</td><td>2</td><td>2</td><td>i</td><td>16</td></tr>",
                            "<tr><td>250</td><td>8</td><td>3</td><td>1</td><td>n</td><td>16</td></tr>",
                            "<tr><td>252</td><td>10</td><td>3</td><td>1</td><td>i</td><td>16</td></tr>",
                            "<tr><td>256</td><td>14</td><td>3</td><td>1</td><td>i</td><td>16</td></tr>",
                            "<tr><td>263</td><td>1</td><td>2</td><td>2</td><td>i</td><td>17</td></tr>",
                            "<tr><td>268</td><td>6</td><td>2</td><td>2</td><td>n</td><td>17</td></tr>",
                            "<tr><td>274</td><td>12</td><td>3</td><td>1</td><td>i</td><td>17</td></tr>",
                            "<tr><td>278</td><td>1</td><td>3</td><td>1</td><td>i</td><td>18</td></tr>",
                            "<tr><td>284</td><td>4</td><td>2</td><td>2</td><td>i</td><td>19</td></tr>",
                            "</table>"
                        ]
                    }
                }
            ],
            "execution_count": 3
        },
        {
            "cell_type": "code",
            "source": [
                "-- számoljunk el 1-től 10-ig\r\n",
                "with cte_szamol AS\r\n",
                "(\r\n",
                "    select 1 as 'n'\r\n",
                "    UNION ALL\r\n",
                "    select n + 1 \r\n",
                "    from cte_szamol\r\n",
                "    where n < 10\r\n",
                "\r\n",
                ")\r\n",
                "\r\n",
                "select * from cte_szamol"
            ],
            "metadata": {
                "azdata_cell_guid": "73906eb8-9072-4829-9695-f3ddb14fdc20"
            },
            "outputs": [
                {
                    "output_type": "display_data",
                    "data": {
                        "text/html": "(10 rows affected)"
                    },
                    "metadata": {}
                },
                {
                    "output_type": "display_data",
                    "data": {
                        "text/html": "Total execution time: 00:00:00.059"
                    },
                    "metadata": {}
                },
                {
                    "output_type": "execute_result",
                    "metadata": {},
                    "execution_count": 4,
                    "data": {
                        "application/vnd.dataresource+json": {
                            "schema": {
                                "fields": [
                                    {
                                        "name": "n"
                                    }
                                ]
                            },
                            "data": [
                                {
                                    "0": "1"
                                },
                                {
                                    "0": "2"
                                },
                                {
                                    "0": "3"
                                },
                                {
                                    "0": "4"
                                },
                                {
                                    "0": "5"
                                },
                                {
                                    "0": "6"
                                },
                                {
                                    "0": "7"
                                },
                                {
                                    "0": "8"
                                },
                                {
                                    "0": "9"
                                },
                                {
                                    "0": "10"
                                }
                            ]
                        },
                        "text/html": [
                            "<table>",
                            "<tr><th>n</th></tr>",
                            "<tr><td>1</td></tr>",
                            "<tr><td>2</td></tr>",
                            "<tr><td>3</td></tr>",
                            "<tr><td>4</td></tr>",
                            "<tr><td>5</td></tr>",
                            "<tr><td>6</td></tr>",
                            "<tr><td>7</td></tr>",
                            "<tr><td>8</td></tr>",
                            "<tr><td>9</td></tr>",
                            "<tr><td>10</td></tr>",
                            "</table>"
                        ]
                    }
                }
            ],
            "execution_count": 4
        },
        {
            "cell_type": "code",
            "source": [
                "-- számoljunk el 1-től 10 faktoriálisig\r\n",
                "\r\n",
                "with cte_fakt as \r\n",
                "(\r\n",
                "    select 1 as 'n', 1 as 'fakt'  -- ha n = 1, akkor fakt = 1\r\n",
                "    UNION ALL\r\n",
                "    select n+1,(n+1)*fakt \r\n",
                "    from cte_fakt -- különben (n+1)! = (n+1)*n!\r\n",
                "    where n < 10\r\n",
                ")\r\n",
                "\r\n",
                "select *from cte_fakt"
            ],
            "metadata": {
                "azdata_cell_guid": "14a5444e-41e8-493f-8faa-f2b9ea23e22b",
                "tags": []
            },
            "outputs": [
                {
                    "output_type": "display_data",
                    "data": {
                        "text/html": "(10 rows affected)"
                    },
                    "metadata": {}
                },
                {
                    "output_type": "display_data",
                    "data": {
                        "text/html": "Total execution time: 00:00:00.063"
                    },
                    "metadata": {}
                },
                {
                    "output_type": "execute_result",
                    "metadata": {},
                    "execution_count": 6,
                    "data": {
                        "application/vnd.dataresource+json": {
                            "schema": {
                                "fields": [
                                    {
                                        "name": "n"
                                    },
                                    {
                                        "name": "fakt"
                                    }
                                ]
                            },
                            "data": [
                                {
                                    "0": "1",
                                    "1": "1"
                                },
                                {
                                    "0": "2",
                                    "1": "2"
                                },
                                {
                                    "0": "3",
                                    "1": "6"
                                },
                                {
                                    "0": "4",
                                    "1": "24"
                                },
                                {
                                    "0": "5",
                                    "1": "120"
                                },
                                {
                                    "0": "6",
                                    "1": "720"
                                },
                                {
                                    "0": "7",
                                    "1": "5040"
                                },
                                {
                                    "0": "8",
                                    "1": "40320"
                                },
                                {
                                    "0": "9",
                                    "1": "362880"
                                },
                                {
                                    "0": "10",
                                    "1": "3628800"
                                }
                            ]
                        },
                        "text/html": [
                            "<table>",
                            "<tr><th>n</th><th>fakt</th></tr>",
                            "<tr><td>1</td><td>1</td></tr>",
                            "<tr><td>2</td><td>2</td></tr>",
                            "<tr><td>3</td><td>6</td></tr>",
                            "<tr><td>4</td><td>24</td></tr>",
                            "<tr><td>5</td><td>120</td></tr>",
                            "<tr><td>6</td><td>720</td></tr>",
                            "<tr><td>7</td><td>5040</td></tr>",
                            "<tr><td>8</td><td>40320</td></tr>",
                            "<tr><td>9</td><td>362880</td></tr>",
                            "<tr><td>10</td><td>3628800</td></tr>",
                            "</table>"
                        ]
                    }
                }
            ],
            "execution_count": 6
        }
    ]
}