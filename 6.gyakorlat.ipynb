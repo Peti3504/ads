{
    "metadata": {
        "kernelspec": {
            "name": "SQL",
            "display_name": "SQL",
            "language": "sql"
        },
        "language_info": {
            "name": "sql",
            "version": ""
        },
        "extensions": {
            "azuredatastudio": {
                "version": 1,
                "views": []
            }
        }
    },
    "nbformat_minor": 2,
    "nbformat": 4,
    "cells": [
        {
            "cell_type": "code",
            "source": [
                "\r\n",
                "\r\n",
                "\r\n",
                "\r\n",
                "DROP TABLE if EXISTS #Szervezet\r\n",
                "CREATE table #Szervezet \r\n",
                "(\r\n",
                "    Szint HIERARCHYID,\r\n",
                "    Beosztas NVARCHAR(100)\r\n",
                "\r\n",
                ")\r\n",
                "insert into #Szervezet VALUES ('/1/','vezérigazgató')\r\n",
                "insert into #Szervezet VALUES ('/1/1/','marketing igazgató')\r\n",
                "insert into #Szervezet VALUES ('/1/2/','pénzügyi igazgató')\r\n",
                "insert into #Szervezet VALUES ('/1/3/','ügyvezető igazgató')\r\n",
                "insert into #Szervezet VALUES ('/1/1/1/','marketing osztály')\r\n",
                "insert into #Szervezet VALUES ('/1/2/1/','pénzügyi osztály')\r\n",
                "insert into #Szervezet VALUES ('/1/3/1/','termelési igazgató')\r\n",
                "\r\n",
                "\r\n",
                "select cast(szint as nvarchar(100)),\r\n",
                "        Beosztas\r\n",
                "from #Szervezet\r\n",
                "\r\n",
                "\r\n",
                "\r\n",
                ""
            ],
            "metadata": {
                "azdata_cell_guid": "f47d6119-c57f-4121-8643-ed3be8fa2705",
                "tags": []
            },
            "outputs": [
                {
                    "output_type": "display_data",
                    "data": {
                        "text/html": "(1 row affected)"
                    },
                    "metadata": {}
                },
                {
                    "output_type": "display_data",
                    "data": {
                        "text/html": "(1 row affected)"
                    },
                    "metadata": {}
                },
                {
                    "output_type": "display_data",
                    "data": {
                        "text/html": "(1 row affected)"
                    },
                    "metadata": {}
                },
                {
                    "output_type": "display_data",
                    "data": {
                        "text/html": "(1 row affected)"
                    },
                    "metadata": {}
                },
                {
                    "output_type": "display_data",
                    "data": {
                        "text/html": "(1 row affected)"
                    },
                    "metadata": {}
                },
                {
                    "output_type": "display_data",
                    "data": {
                        "text/html": "(1 row affected)"
                    },
                    "metadata": {}
                },
                {
                    "output_type": "display_data",
                    "data": {
                        "text/html": "The statement has been terminated."
                    },
                    "metadata": {}
                },
                {
                    "output_type": "display_data",
                    "data": {
                        "text/html": "(6 rows affected)"
                    },
                    "metadata": {}
                },
                {
                    "output_type": "display_data",
                    "data": {
                        "text/html": "Total execution time: 00:00:00.237"
                    },
                    "metadata": {}
                },
                {
                    "output_type": "execute_result",
                    "metadata": {},
                    "execution_count": 2,
                    "data": {
                        "application/vnd.dataresource+json": {
                            "schema": {
                                "fields": [
                                    {
                                        "name": "(No column name)"
                                    },
                                    {
                                        "name": "Beosztas"
                                    }
                                ]
                            },
                            "data": [
                                {
                                    "0": "/1/",
                                    "1": "vezérigazgató"
                                },
                                {
                                    "0": "/1/1/",
                                    "1": "marketing igazgató"
                                },
                                {
                                    "0": "/1/2/",
                                    "1": "pénzügyi igazgató"
                                },
                                {
                                    "0": "/1/3/",
                                    "1": "ügyvezeto igazgató"
                                },
                                {
                                    "0": "/1/1/1/",
                                    "1": "marketing osztály"
                                },
                                {
                                    "0": "/1/2/1/",
                                    "1": "pénzügyi osztály"
                                }
                            ]
                        },
                        "text/html": [
                            "<table>",
                            "<tr><th>(No column name)</th><th>Beosztas</th></tr>",
                            "<tr><td>/1/</td><td>vezérigazgató</td></tr>",
                            "<tr><td>/1/1/</td><td>marketing igazgató</td></tr>",
                            "<tr><td>/1/2/</td><td>pénzügyi igazgató</td></tr>",
                            "<tr><td>/1/3/</td><td>ügyvezeto igazgató</td></tr>",
                            "<tr><td>/1/1/1/</td><td>marketing osztály</td></tr>",
                            "<tr><td>/1/2/1/</td><td>pénzügyi osztály</td></tr>",
                            "</table>"
                        ]
                    }
                },
                {
                    "output_type": "error",
                    "evalue": "Msg 6522, Level 16, State 2, Line 18\r\nA .NET Framework error occurred during execution of user-defined routine or aggregate \"hierarchyid\": \r\nMicrosoft.SqlServer.Types.HierarchyIdException: 24001: SqlHierarchyId.Parse failed because the input string '/1/3/1' is not a valid string representation of a SqlHierarchyId node.\r\nMicrosoft.SqlServer.Types.HierarchyIdException: \r\n   at Microsoft.SqlServer.Types.SqlHierarchyId.Parse(SqlString input)\r\n.",
                    "ename": "",
                    "traceback": []
                }
            ],
            "execution_count": 2
        }
    ]
}